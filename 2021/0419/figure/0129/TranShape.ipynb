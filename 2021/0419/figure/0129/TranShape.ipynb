{
 "metadata": {
  "language_info": {
   "codemirror_mode": {
    "name": "ipython",
    "version": 3
   },
   "file_extension": ".py",
   "mimetype": "text/x-python",
   "name": "python",
   "nbconvert_exporter": "python",
   "pygments_lexer": "ipython3",
   "version": "3.7.8-final"
  },
  "orig_nbformat": 2,
  "kernelspec": {
   "name": "python37364bit230ebe0d43f340ce8a06236b0a5e71e8",
   "display_name": "Python 3.7.3 64-bit",
   "language": "python"
  }
 },
 "nbformat": 4,
 "nbformat_minor": 2,
 "cells": [
  {
   "cell_type": "code",
   "execution_count": 1,
   "metadata": {},
   "outputs": [],
   "source": [
    "import numpy as np"
   ]
  },
  {
   "cell_type": "code",
   "execution_count": 2,
   "metadata": {},
   "outputs": [],
   "source": [
    "ridge = np.loadtxt(\"shape.txt\")\n",
    "wire = np.loadtxt(\"wire.txt\")"
   ]
  },
  {
   "cell_type": "code",
   "execution_count": 3,
   "metadata": {},
   "outputs": [],
   "source": [
    "f = open(\"surface.txt\",\"w\")\n",
    "txt = \"\"\n",
    "for i in range(ridge.shape[0]):\n",
    "    txt = str(wire[i][0]) + \" \" + str(wire[i][1]) + \" \" + str(wire[i][2]) + \"\\n\" + str(ridge[i][0]) + \" \" + str(ridge[i][1]) + \" \" + str(ridge[i][2]) + \"\\n\\n\"\n",
    "    f.write(txt)\n",
    "f.close()"
   ]
  },
  {
   "cell_type": "code",
   "execution_count": null,
   "metadata": {},
   "outputs": [],
   "source": []
  }
 ]
}